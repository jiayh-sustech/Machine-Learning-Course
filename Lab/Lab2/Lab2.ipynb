{
 "cells": [
  {
   "cell_type": "markdown",
   "source": [
    "# CS405 Machine Learning\n",
    "### Lab #2 Preliminary\n",
    "\n",
    "Objectives: This lab will introduce how to pre-process and transform data to make machine-learning algorithm work. In this lab, you will employ several supervised algorithms of your choice to accurately model individuals’ income using data collected from the 1994 U.S census. Your goal with this lab is to construct a model that accurately predicts whether an individual makes more than $50000."
   ],
   "metadata": {
    "collapsed": false,
    "pycharm": {
     "name": "#%% md\n"
    }
   }
  },
  {
   "cell_type": "markdown",
   "source": [
    "### Exploring the Data\n",
    "Run the code cell below to load necessary Python l ibraries and load the census data. Note that the last column from this dataset “income”, will be our target label (whether an individual makes more than, or at most, $50,000 annually). All other columns are features about each individual in the census database."
   ],
   "metadata": {
    "collapsed": false,
    "pycharm": {
     "name": "#%% md\n"
    }
   }
  },
  {
   "cell_type": "code",
   "execution_count": null,
   "outputs": [],
   "source": [
    "# Import libraries necessary for this project\n",
    "import numpy as np\n",
    "import pandas as pd\n",
    "from time import time\n",
    "from IPython.display import display\n",
    "\n",
    "# Import supplementary visualization code visuals.py\n",
    "import visuals as vs\n",
    "\n",
    "# Pretty display for notebooks\n",
    "%matplotlib inline\n",
    "\n",
    "# Load the Census dataset\n",
    "data = pd.read_csv('census.csv')\n",
    "\n",
    "# Success - Display the first record\n",
    "display(data.head(n=1))"
   ],
   "metadata": {
    "collapsed": false,
    "pycharm": {
     "name": "#%%\n"
    }
   }
  },
  {
   "cell_type": "markdown",
   "source": [
    "### Exercise 0\n",
    "A cursory investigation of the dataset will determine how many individuals fit into either group, and will tell us about the percentage of these individuals making more than \\$50,000 annually. In the code cell below, you will need to compute the following:\n",
    "\n",
    "- The total number of records, `n_records`;\n",
    "- The number of individuals making more than \\$50000 annually, `n_greater_50k`.\n",
    "- The number of individuals making at most \\$50000 annually, `n_at_most_50K`.\n",
    "- The percentage of individuals making at more than $50000 annually, `greater_percent`\n",
    "- Feature values for each column\n",
    "\n",
    "Tips :As the data is stored as pandas, [this tutorial](https://pandas.pydata.org/pandas-docs/stable/user_guide/10min.html) will help you finish."
   ],
   "metadata": {
    "collapsed": false,
    "pycharm": {
     "name": "#%% md\n"
    }
   }
  },
  {
   "cell_type": "code",
   "execution_count": null,
   "outputs": [],
   "source": [
    "########### Write Your Code Here ###########\n",
    "\n",
    "n_records = len(data)\n",
    "print('n_records:',n_records)\n",
    "\n",
    "n_greater_50k = len(data[data['income']!='<=50K'])\n",
    "print('n_greater_50k:',n_greater_50k)\n",
    "\n",
    "n_at_most_50K = len(data[data['income']=='<=50K'])\n",
    "print('n_at_most_50K:',n_at_most_50K)\n",
    "\n",
    "greater_percent = 100.0*len(data[data['income']!='<=50K'])/len(data)\n",
    "print(f'greater_percent: {greater_percent}%')\n",
    "\n",
    "print('\\n','*'*10,'Features of Columns','*'*10)\n",
    "data.info(verbose=True)\n",
    "############################################"
   ],
   "metadata": {
    "collapsed": false,
    "pycharm": {
     "name": "#%%\n"
    }
   }
  },
  {
   "cell_type": "markdown",
   "source": [
    "### Preparing the Data\n",
    "Before the data can be used as the input for machine learning algorithms, it often must be cleaned, formatted, and restructured — this is typically known as preprocessing. Fortunately, for this dataset, there are no invalid or missing entries we must deal with, however there are some qualities about certain features that must be adjusted. This preprocessing can help tremendously with the outcome and predictive power of nearly all learning algorithms.\n",
    "\n",
    "### Transforming Skewed Continuous Features\n",
    "A dataset may sometimes contain at least one feature whose values tend to lie near a single number, but will also have a non-trivial number of vastly larger or smaller values than that single number. Algorithms can be sensitive to such distributions of values and can underperform if the range is not properly normalized. With the census dataset two features fit this description: `capital-gain` and `capital-loss`. The code cell below will plot a histogram of these two features. Note the range of the values present and how they are distributed.\n"
   ],
   "metadata": {
    "collapsed": false,
    "pycharm": {
     "name": "#%% md\n"
    }
   }
  },
  {
   "cell_type": "code",
   "execution_count": null,
   "outputs": [],
   "source": [
    "# Split the data into features and target label\n",
    "\n",
    "income_raw = data['income']\n",
    "features_raw = data.drop('income', axis=1)\n",
    "\n",
    "# Visualize skewed continuous features of original data\n",
    "vs.distribution(data)"
   ],
   "metadata": {
    "collapsed": false,
    "pycharm": {
     "name": "#%%\n"
    }
   }
  },
  {
   "cell_type": "markdown",
   "source": [
    "For highly-skewed feature distributions such as `capital-gain` and `apital-loss`, it is common practice to apply a logarithmic transformation on the data so that the very large and very small values do not negatively affect the performance of a learning algorithm. Using a logarithmic transformation significantly reduces the range of values caused by outliers. Care must be taken when applying this transformation however: The logarithm of 0 is undefined, so we must translate the values by a small amount above 0 to apply the the logarithm successfully. Below code cell will perform a transformation on the data and visualize the results. Again, note the range of values and how they are distributed."
   ],
   "metadata": {
    "collapsed": false,
    "pycharm": {
     "name": "#%% md\n"
    }
   }
  },
  {
   "cell_type": "code",
   "execution_count": null,
   "outputs": [],
   "source": [
    "# Log-transform the skewrd features\n",
    "skewed = ['capital-gain','capital-loss']\n",
    "features_log_transformed = pd.DataFrame(data=features_raw)\n",
    "features_log_transformed[skewed]=features_raw[skewed].apply(lambda x:np.log(x+1))\n",
    "\n",
    "# Visualize the new log distributions\n",
    "vs.distribution(features_log_transformed, transformed=True)"
   ],
   "metadata": {
    "collapsed": false,
    "pycharm": {
     "name": "#%%\n"
    }
   }
  },
  {
   "cell_type": "markdown",
   "source": [
    "### Normalizing Numerical Features\n",
    "In addition to performing transformations on features that are highly skewed, it is often good practice to perform some type of scaling on numerical features. Applying a scaling to the data does not change the shape of each feature's distribution (such as `capital-gain` or `capital-loss` above); however, normalization ensures that each feature is treated equally when applying supervised learners. Note that once scaling is applied, observing the data in its raw form will no longer have the same original meaning, as exampled below."
   ],
   "metadata": {
    "collapsed": false,
    "pycharm": {
     "name": "#%% md\n"
    }
   }
  },
  {
   "cell_type": "code",
   "execution_count": null,
   "outputs": [],
   "source": [
    "# Import sklearn.preprocessing.StandardScaler\n",
    "from sklearn.preprocessing import MinMaxScaler\n",
    "\n",
    "# Initialize a scaler, then apply it to the features\n",
    "scaler = MinMaxScaler()  # default=(0,1)\n",
    "numerical = ['age', 'education-num', 'capital-gain', 'capital-loss', 'hours-per-week']\n",
    "features_log_minmax_transform = pd.DataFrame(data = features_log_transformed)\n",
    "features_log_minmax_transform[numerical] = scaler.fit_transform(features_log_transformed[numerical])\n",
    "\n",
    "# Show an example of a record with scaling applied\n",
    "display(features_log_minmax_transform.head(n = 5))\n",
    "#features_log_minmax_transform.head(n = 5)"
   ],
   "metadata": {
    "collapsed": false,
    "pycharm": {
     "name": "#%%\n"
    }
   }
  },
  {
   "cell_type": "markdown",
   "source": [
    "### Data Preprocessing\n",
    "From the table in above, we can see there are several features for each record that are non-numeric. Typically, learning algorithms expect input to be numeric, which requires that non-numeric features (called 'categorical variables') be converted. One popular way to convert categorical variables is by using the one-hot encoding scheme. One-hot encoding creates a ‘dummy’ variable for each possible category of each non-numeric feature. For example, assume some features has three possible entries: A, B and C. We then encode this feature into someFeature_A, someFeature_B and someFeature_C.\n",
    "<img src=\"pictures/onehot.png\">\n",
    "Additionally, as with the non-numeric features, we need to convert the non-numeric target label, ’income’ to numerical values for the learning algorithm to work. Since there are only two possible categories for this label (\"<=50K\" and \">50K\"), we can avoid using one-hot encoding and simply encode these two categories as 0 and 1, respectively.\n",
    "<img src=\"pictures/onehot1.png\">"
   ],
   "metadata": {
    "collapsed": false,
    "pycharm": {
     "name": "#%% md\n"
    }
   }
  },
  {
   "cell_type": "markdown",
   "source": [
    "### Exercise 1:\n",
    "- Perform one-hot encoding on the data\n",
    "- Convert the target label ‘income_raw’ to numerical entries (set records with “<=50k” to 0 and records with “>50k” to 1)."
   ],
   "metadata": {
    "collapsed": false,
    "pycharm": {
     "name": "#%% md\n"
    }
   }
  },
  {
   "cell_type": "code",
   "execution_count": null,
   "outputs": [],
   "source": [
    "########### Write Your Code Here ###########\n",
    "\n",
    "\n",
    "############################################\n",
    "print(features_final)"
   ],
   "metadata": {
    "collapsed": false,
    "pycharm": {
     "name": "#%%\n"
    }
   }
  },
  {
   "cell_type": "markdown",
   "source": [
    "### Shuffle and Split Data\n",
    "*Tips: pandas.get_dummies() can perform one-hot encoding.*\n",
    "When all categorical variables have been converted into numerical features, and all numerical features have been normalized. As always, we will now split the data (both features and their labels) into training and test sets. 80% of the data will be used for training and 20% for testing.\n"
   ],
   "metadata": {
    "collapsed": false,
    "pycharm": {
     "name": "#%% md\n"
    }
   }
  },
  {
   "cell_type": "code",
   "execution_count": null,
   "outputs": [],
   "source": [
    "# Import train_test_split\n",
    "from sklearn.model_selection import train_test_split\n",
    "\n",
    "# Split the 'feature' and 'income' data into training and testing sets\n",
    "X_train, X_test, y_train, y_test = train_test_split(features_final, income, test_size = 0.2, random_state = 0)\n",
    "\n",
    "# Show the results of the split\n",
    "print(\"Training set has {} samples.\".format(X_train.shape[0]))\n",
    "print(\"Testing set has {} samples.\".format(X_test.shape[0]))"
   ],
   "metadata": {
    "collapsed": false,
    "pycharm": {
     "name": "#%%\n"
    }
   }
  },
  {
   "cell_type": "markdown",
   "source": [
    "### Evaluating Model Preference\n",
    "<img src='pictures/confusion.png' style=\"zoom:50%;\"/>\n",
    "Accuracy measures how often the classifier makes the correct prediction. It’s the ratio of the number of correct predictions to the total number of predictions.\n",
    "$$ACC = \\frac{TP+TN}{TP+FP+TN+FN}$$\n",
    "\n",
    "<br/>\n",
    "In Python you can calculate it in the following way:\n",
    "\n",
    "```python\n",
    "from sklearn.metrics import confusion_matrix, accuracy_score\n",
    "y_pred_class = y_pred_pos > threshold\n",
    "tn, fp, fn, tp = confusion_matrix(y_test, y_pred_class).ravel()\n",
    "accuracy = (tp+ tn) / (tp + fp + fn + tn)\n",
    "\n",
    "# Or simply\n",
    "accuracy_score(y_true, y_pred class)\n",
    "```\n",
    "\n",
    "- Precision: <br/>**Precision** tells us what proportion of messages we classified as positive. It is a ratio of true positives to all positive predictions. In other words, \n",
    "$$ Precision = TP/(TP + FP) $$\n",
    "\n",
    "- Recall: <br/>**Recall(sensitivity)** tells us what proportion of messages that actually were positive were classified by us as positive.\n",
    "$$Recall = TP/(TP + FN)$$\n",
    "\n",
    "- F1 score: <br/>\n",
    "We can use **F-beta** score as a metric that considers both precision and  recall:\n",
    "$$F_\\beta=(1+\\beta^2)\\bullet\\frac{precision\\bullet recall}{(\\beta^2 \\bullet precision)+recall}$$\n",
    "When choosing beta in your F-beta score **the more you care about recall** over precision **the higher beta** you should choose. For example, with **[F1 score](https://scikit-learn.org/stable/modules/generated/sklearn.metrics.f1_score.html#sklearn.metrics.f1_score) we care equally about recall and precision** with F2 score, recall is twice as important to us.\n",
    "\n",
    "- TPR & FPR & ROC & AUC: \n",
    "$$TPR(true\\ positive\\ rate) = \\frac{positives\\_correctly\\_classified}{total\\_positives}=\\frac{TP}{TP+FN}=\\frac{TP}{P}$$ $$FPR(false\\ positive\\ rate) = \\frac{negatives\\_incorrectly\\_classified}{total\\_negatives}=\\frac{FP}{TN+FP}=\\frac{FP}{N}$$ ROC（Receiver Operating Characteristic is used to measure the output quality of the evaluation classifier. ROC curves are two-dimensional graphs in which true positive rate (TPR) is ploted on the Y axis and false positive rate (FPR) is plotted on the X axis. An ROC graph depicts relative tradeoffs between true positive rate (TPR) and false positive rate (FPR). Basically, for every threshold, we calculate TPR and FPR and plot it on one chart. <br/> *Example data and curve for ROC:* <img src='pictures/roc_data.png'> <br/> <img src='pictures/roc_curve.png' style='zoom: 50%;'> <br/> The higher TPR and the lower FPR is for each threshold the better and so classifiers that have curves that are more top-left-side are better. <br/> <img src='pictures/roc_curve1.png' style='zoom: 50%;'> <br/> AUC (Area Under Curve) means area under the curve, it is a performance metric that you can use to evaluate classification models. There are functions for calculating AUC available in many programming languages. In python, you can refer to [document from sklearn](https://scikit-learn.org/stable/modules/generated/sklearn.metrics.roc_auc_score.html#sklearn.metrics.roc_auc_score).\n",
    "\n",
    "\n"
   ],
   "metadata": {
    "collapsed": false,
    "pycharm": {
     "name": "#%% md\n"
    }
   }
  },
  {
   "cell_type": "markdown",
   "source": [
    "### Exercise 2\n",
    "Now if we assume a model that predicts any individual's income more than \\$50,000, then what would be that model's accuracy and F-score on this dataset? You can use the code provided in the previous section."
   ],
   "metadata": {
    "collapsed": false,
    "pycharm": {
     "name": "#%% md\n"
    }
   }
  },
  {
   "cell_type": "code",
   "execution_count": null,
   "outputs": [],
   "source": [
    "########### Write Your Code Here ###########\n",
    "\n",
    "############################################"
   ],
   "metadata": {
    "collapsed": false,
    "pycharm": {
     "name": "#%%\n"
    }
   }
  },
  {
   "cell_type": "markdown",
   "source": [
    "### Exercise 3\n",
    "The following are some of the supervised learning models that are currently available in `scikit-learn`:\n",
    "- Gaussian Naive Bayes (GaussianNB)\n",
    "- Decision Trees\n",
    "- Ensemble Methods (Bagging, AdaBoost, RandomForest)\n",
    "- K-Nearest Neighbors\n",
    "- Support Vector Machines (SVM)\n",
    "- Logistic Regression\n",
    "You need choose three of them, draw three ROC curves on the census data, and analyze and compare the them."
   ],
   "metadata": {
    "collapsed": false,
    "pycharm": {
     "name": "#%% md\n"
    }
   }
  },
  {
   "cell_type": "code",
   "execution_count": null,
   "outputs": [],
   "source": [
    "########### Write Your Code Here ###########\n",
    "\n",
    "############################################"
   ],
   "metadata": {
    "collapsed": false,
    "pycharm": {
     "name": "#%%\n"
    }
   }
  },
  {
   "cell_type": "markdown",
   "source": [
    "### Questions"
   ],
   "metadata": {
    "collapsed": false,
    "pycharm": {
     "name": "#%% md\n"
    }
   }
  },
  {
   "cell_type": "markdown",
   "source": [
    "1. An important task when performing supervised learning on a dataset like the census data we study here is determining which features provides the most predictive power. Choose a scikit-learn classifier (e.g adaboost, random forests) that has a feature_importance_ attribute, which is a function that ranks the importance of features according to the chosen classifier. List three of the supervised learning models above that are appropriate for this problem that you will test on the census \n",
    "2. Describe one real-world application in industry where a model can be applied\n",
    "3. What are the strengths of the model; when does it perform well?\n",
    "4. What are the weaknesses of the model; when does it perform poorly?\n",
    "5. What makes this model a good candidate for the problem, given what you know about the data?"
   ],
   "metadata": {
    "collapsed": false,
    "pycharm": {
     "name": "#%% md\n"
    }
   }
  },
  {
   "cell_type": "markdown",
   "metadata": {
    "pycharm": {
     "name": "#%% md\n"
    }
   },
   "source": [
    "### Exercise 1:\n",
    "- Perform one-hot encoding on the data\n",
    "- Convert the target label ‘income_raw’ to numerical entries (set records with “<=50k” to 0 and records with “>50k” to 1)."
   ]
  },
  {
   "cell_type": "code",
   "execution_count": null,
   "metadata": {
    "collapsed": false,
    "jupyter": {
     "outputs_hidden": false
    },
    "pycharm": {
     "name": "#%%\n"
    }
   },
   "outputs": [],
   "source": [
    "########### Write Your Code Here ###########\n",
    "\n",
    "\n",
    "############################################\n",
    "print(features_final)"
   ]
  },
  {
   "cell_type": "markdown",
   "metadata": {
    "pycharm": {
     "name": "#%% md\n"
    }
   },
   "source": [
    "### Shuffle and Split Data\n",
    "*Tips: pandas.get_dummies() can perform one-hot encoding.*\n",
    "When all categorical variables have been converted into numerical features, and all numerical features have been normalized. As always, we will now split the data (both features and their labels) into training and test sets. 80% of the data will be used for training and 20% for testing.\n"
   ]
  },
  {
   "cell_type": "code",
   "execution_count": null,
   "metadata": {
    "pycharm": {
     "name": "#%%\n"
    }
   },
   "outputs": [],
   "source": [
    "# Import train_test_split\n",
    "from sklearn.model_selection import train_test_split\n",
    "\n",
    "# Split the 'feature' and 'income' data into training and testing sets\n",
    "X_train, X_test, y_train, y_test = train_test_split(features_final, income, test_size = 0.2, random_state = 0)\n",
    "\n",
    "# Show the results of the split\n",
    "print(\"Training set has {} samples.\".format(X_train.shape[0]))\n",
    "print(\"Testing set has {} samples.\".format(X_test.shape[0]))"
   ]
  },
  {
   "cell_type": "markdown",
   "metadata": {
    "tags": [],
    "pycharm": {
     "name": "#%% md\n"
    }
   },
   "source": [
    "### Evaluating Model Preference\n",
    "<img src='pictures/confusion.png' style=\"zoom:50%;\"/>\n",
    "Accuracy measures how often the classifier makes the correct prediction. It’s the ratio of the number of correct predictions to the total number of predictions.\n",
    "$$ACC = \\frac{TP+TN}{TP+FP+TN+FN}$$\n",
    "\n",
    "<br/>\n",
    "In Python you can calculate it in the following way:\n",
    "\n",
    "```python\n",
    "from sklearn.metrics import confusion_matrix, accuracy_score\n",
    "y_pred_class = y_pred_pos > threshold\n",
    "tn, fp, fn, tp = confusion_matrix(y_test, y_pred_class).ravel()\n",
    "accuracy = (tp+ tn) / (tp + fp + fn + tn)\n",
    "\n",
    "# Or simply\n",
    "accuracy_score(y_true, y_pred class)\n",
    "```\n",
    "\n",
    "- Precision: <br/>**Precision** tells us what proportion of messages we classified as positive. It is a ratio of true positives to all positive predictions. In other words, \n",
    "$$ Precision = TP/(TP + FP) $$\n",
    "\n",
    "- Recall: <br/>**Recall(sensitivity)** tells us what proportion of messages that actually were positive were classified by us as positive.\n",
    "$$Recall = TP/(TP + FN)$$\n",
    "\n",
    "- F1 score: <br/>\n",
    "We can use **F-beta** score as a metric that considers both precision and  recall:\n",
    "$$F_\\beta=(1+\\beta^2)\\bullet\\frac{precision\\bullet recall}{(\\beta^2 \\bullet precision)+recall}$$\n",
    "When choosing beta in your F-beta score **the more you care about recall** over precision **the higher beta** you should choose. For example, with **[F1 score](https://scikit-learn.org/stable/modules/generated/sklearn.metrics.f1_score.html#sklearn.metrics.f1_score) we care equally about recall and precision** with F2 score, recall is twice as important to us.\n",
    "\n",
    "- TPR & FPR & ROC & AUC: \n",
    "$$TPR(true\\ positive\\ rate) = \\frac{positives\\_correctly\\_classified}{total\\_positives}=\\frac{TP}{TP+FN}=\\frac{TP}{P}$$ $$FPR(false\\ positive\\ rate) = \\frac{negatives\\_incorrectly\\_classified}{total\\_negatives}=\\frac{FP}{TN+FP}=\\frac{FP}{N}$$ ROC（Receiver Operating Characteristic is used to measure the output quality of the evaluation classifier. ROC curves are two-dimensional graphs in which true positive rate (TPR) is ploted on the Y axis and false positive rate (FPR) is plotted on the X axis. An ROC graph depicts relative tradeoffs between true positive rate (TPR) and false positive rate (FPR). Basically, for every threshold, we calculate TPR and FPR and plot it on one chart. <br/> *Example data and curve for ROC:* <img src='pictures/roc_data.png'> <br/> <img src='pictures/roc_curve.png' style='zoom: 50%;'> <br/> The higher TPR and the lower FPR is for each threshold the better and so classifiers that have curves that are more top-left-side are better. <br/> <img src='pictures/roc_curve1.png' style='zoom: 50%;'> <br/> AUC (Area Under Curve) means area under the curve, it is a performance metric that you can use to evaluate classification models. There are functions for calculating AUC available in many programming languages. In python, you can refer to [document from sklearn](https://scikit-learn.org/stable/modules/generated/sklearn.metrics.roc_auc_score.html#sklearn.metrics.roc_auc_score).\n",
    "\n",
    "\n"
   ]
  },
  {
   "cell_type": "markdown",
   "metadata": {
    "pycharm": {
     "name": "#%% md\n"
    }
   },
   "source": [
    "### Exercise 2\n",
    "Now if we assume a model that predicts any individual's income more than \\$50,000, then what would be that model's accuracy and F-score on this dataset? You can use the code provided in the previous section."
   ]
  },
  {
   "cell_type": "code",
   "execution_count": null,
   "metadata": {
    "pycharm": {
     "name": "#%%\n"
    }
   },
   "outputs": [],
   "source": [
    "########### Write Your Code Here ###########\n",
    "\n",
    "############################################"
   ]
  },
  {
   "cell_type": "markdown",
   "metadata": {
    "pycharm": {
     "name": "#%% md\n"
    }
   },
   "source": [
    "### Exercise 3\n",
    "The following are some of the supervised learning models that are currently available in `scikit-learn`:\n",
    "- Gaussian Naive Bayes (GaussianNB)\n",
    "- Decision Trees\n",
    "- Ensemble Methods (Bagging, AdaBoost, RandomForest)\n",
    "- K-Nearest Neighbors\n",
    "- Support Vector Machines (SVM)\n",
    "- Logistic Regression\n",
    "You need choose three of them, draw three ROC curves on the census data, and analyze and compare the them."
   ]
  },
  {
   "cell_type": "code",
   "execution_count": null,
   "metadata": {
    "pycharm": {
     "name": "#%%\n"
    }
   },
   "outputs": [],
   "source": [
    "########### Write Your Code Here ###########\n",
    "\n",
    "############################################"
   ]
  },
  {
   "cell_type": "markdown",
   "metadata": {
    "pycharm": {
     "name": "#%% md\n"
    }
   },
   "source": [
    "### Questions"
   ]
  },
  {
   "cell_type": "markdown",
   "metadata": {
    "pycharm": {
     "name": "#%% md\n"
    }
   },
   "source": [
    "1. An important task when performing supervised learning on a dataset like the census data we study here is determining which features provides the most predictive power. Choose a scikit-learn classifier (e.g adaboost, random forests) that has a feature_importance_ attribute, which is a function that ranks the importance of features according to the chosen classifier. List three of the supervised learning models above that are appropriate for this problem that you will test on the census \n",
    "2. Describe one real-world application in industry where a model can be applied\n",
    "3. What are the strengths of the model; when does it perform well?\n",
    "4. What are the weaknesses of the model; when does it perform poorly?\n",
    "5. What makes this model a good candidate for the problem, given what you know about the data?"
   ]
  },
  {
   "cell_type": "code",
   "execution_count": null,
   "metadata": {
    "pycharm": {
     "name": "#%%\n"
    }
   },
   "outputs": [],
   "source": []
  }
 ],
 "metadata": {
  "kernelspec": {
   "display_name": "Python 3 (ipykernel)",
   "language": "python",
   "name": "python3"
  },
  "language_info": {
   "codemirror_mode": {
    "name": "ipython",
    "version": 3
   },
   "file_extension": ".py",
   "mimetype": "text/x-python",
   "name": "python",
   "nbconvert_exporter": "python",
   "pygments_lexer": "ipython3",
   "version": "3.9.7"
  }
 },
 "nbformat": 4,
 "nbformat_minor": 4
}